{
 "cells": [
  {
   "cell_type": "code",
   "execution_count": 14,
   "metadata": {},
   "outputs": [],
   "source": [
    "import os\n",
    "import sys\n",
    "import copy\n",
    "import pandas as pd\n",
    "import numpy as np\n",
    "from sklearn.ensemble import RandomForestClassifier\n",
    "from sklearn import metrics\n",
    "from sklearn.tree import DecisionTreeClassifier\n",
    "from sklearn.model_selection import train_test_split\n",
    "\n",
    "from matplotlib import pyplot as plt\n",
    "from sklearn import linear_model"
   ]
  },
  {
   "cell_type": "code",
   "execution_count": 15,
   "metadata": {},
   "outputs": [],
   "source": [
    "def load_dataset():\n",
    "    data = pd.read_csv('data/final_dataset_14032019.csv')\n",
    "    labels = data['verdict']\n",
    "    features = data.drop('verdict', axis=1)\n",
    "    print(\"\\nData dataframe shape: \", data.shape)\n",
    "    return data\n",
    "\n",
    "def get_train_test_set_manual(data):\n",
    "    df_malicious = data.loc[data['verdict'] ==1]\n",
    "    df_benign = data.loc[data['verdict'] ==0]\n",
    "\n",
    "    print(\"\\nMaclisious Shape: **\", df_malicious.shape)\n",
    "    print(\"Benign Shape: ******\", df_benign.shape)\n",
    "\n",
    "#     test_set = pd.concat([df_malicious.iloc[0:214, :], df_benign.iloc[0:11995, :]])\n",
    "#     train_set = pd.concat([df_malicious.iloc[215:570, :], df_benign.iloc[11996:59975, :]])\n",
    "    \n",
    "    test_set = pd.concat([df_malicious.iloc[0:214, :], df_benign.iloc[0:214, :]])\n",
    "    train_set = pd.concat([df_malicious.iloc[214:570, :], df_benign.iloc[214:570, :]])\n",
    "    print(\"\\nTest set Shape: ****\", test_set.shape)\n",
    "    print(\"Train set Shape: ***\", train_set.shape)\n",
    "    \n",
    "    return [train_set, test_set]\n",
    "\n",
    "def get_rf_classifier(X,y):\n",
    "    tree = RandomForestClassifier(n_estimators=1000, max_depth=5, random_state=0)\n",
    "    rf = tree.fit(X,y)\n",
    "    return rf\n",
    "\n",
    "def get_dt_classifier(X,y):\n",
    "    tree = DecisionTreeClassifier(min_samples_split=50, random_state=0)\n",
    "    rf = tree.fit(X,y)\n",
    "    return rf\n",
    "\n",
    "def get_accuracy_on_testset(classifier, test_x, y_test):\n",
    "    predicted = classifier.predict(test_x)\n",
    "    print(\"\\n  Accuracy = \", np.mean(predicted == y_test))\n",
    "    confusion_matrix_dt = metrics.confusion_matrix(y_test, predicted)\n",
    "#     print(\"  Confusion Matrix \\n\", confusion_matrix_dt)\n",
    "    tn, fp, fn, tp = confusion_matrix_dt.ravel()\n",
    "    print(\"  Precision of Malicious = %s\" % (tp / (tp + fp)))\n",
    "    print(\"\\n  TP= %s\" % tp, \"   Fp= %s\" % fp, \"   Fn= %s\" % fn, \"   Tn= %s\" % tn)\n",
    "    print(\"\\n   Metrics\", metrics.classification_report(y_test, predicted))\n",
    "    \n",
    "    plt.scatter(y_test, predicted)\n",
    "    plt.xlabel(\"True Values\")\n",
    "    plt.ylabel(\"Predictions\")\n",
    "\n",
    "def get_accuracy_on_testset_manual(classifier, testset):\n",
    "    \"\"\" Get classifier metrics on given testset \"\"\"\n",
    "    test_set_temp = copy.deepcopy(testset)\n",
    "    y_test = test_set_temp.pop('verdict')\n",
    "    predicted = classifier.predict(test_set_temp)\n",
    "\n",
    "    print(\"\\n  Accuracy = {}\".format(np.mean(predicted == y_test)))\n",
    "    print(metrics.confusion_matrix(y_test, predicted))\n",
    "    print(metrics.classification_report(y_test, predicted))\n",
    "\n",
    "    \n",
    "def get_train_test_set(data, test_percent):\n",
    "    df_malicious_a = data.loc[data['verdict'] ==1]\n",
    "    df_benign_a = data.loc[data['verdict'] ==0]\n",
    "\n",
    "    print(\"\\nMaclisious count: **\", df_malicious_a.shape)\n",
    "    print(\"Benign count: ******\", df_benign_a.shape)\n",
    "    \n",
    "    df_malicious = copy.deepcopy(df_malicious_a)\n",
    "    df_benign = copy.deepcopy(df_benign_a)\n",
    "    \n",
    "    mal_y = df_malicious.pop('verdict')\n",
    "    mal_x = df_malicious\n",
    "    ben_y = df_benign.pop('verdict')\n",
    "    ben_x = df_benign\n",
    "    \n",
    "    mal_xTrain, mal_xTest, mal_yTrain, mal_yTest = train_test_split(mal_x, mal_y, test_size = test_percent, random_state = 0)\n",
    "    ben_xTrain, ben_xTest, ben_yTrain, ben_yTest = train_test_split(ben_x, ben_y, test_size = test_percent, random_state = 0)\n",
    "    \n",
    "    train_dataX = pd.concat([mal_xTrain, ben_xTrain])\n",
    "    train_dataY = pd.concat([mal_yTrain, ben_yTrain])\n",
    "    \n",
    "    test_dataX = pd.concat([mal_xTest, ben_xTest])\n",
    "    test_dataY = pd.concat([mal_yTest, ben_yTest])\n",
    "    \n",
    "    mal_test_data = pd.concat([ben_xTrain, ben_yTrain])\n",
    "    print(\"TrainSet Count: \\t \", train_dataX.shape[0], \"\\t TestSet Count \\t:\", test_dataX.shape[0])\n",
    "    return [train_dataX, train_dataY, test_dataX, test_dataY]\n",
    "    "
   ]
  },
  {
   "cell_type": "code",
   "execution_count": 16,
   "metadata": {
    "scrolled": true
   },
   "outputs": [
    {
     "name": "stdout",
     "output_type": "stream",
     "text": [
      "\n",
      "Data dataframe shape:  (60545, 28)\n",
      "\n",
      "Maclisious count: ** (570, 28)\n",
      "Benign count: ****** (59975, 28)\n",
      "TrainSet Count: \t  48436 \t TestSet Count \t: 12109\n"
     ]
    },
    {
     "name": "stderr",
     "output_type": "stream",
     "text": [
      "/home/shahid/.local/lib/python3.6/site-packages/pandas-0.23.4-py3.6-linux-x86_64.egg/pandas/core/indexes/api.py:107: RuntimeWarning: '<' not supported between instances of 'str' and 'int', sort order is undefined for incomparable objects\n",
      "  result = result.union(other)\n"
     ]
    },
    {
     "name": "stdout",
     "output_type": "stream",
     "text": [
      "\n",
      "**** Test Set Results **** \n",
      "\n",
      "  Accuracy =  0.9900074324882319\n",
      "  Precision of Malicious = 0.4444444444444444\n",
      "\n",
      "  TP= 28    Fp= 35    Fn= 86    Tn= 11960\n",
      "\n",
      "   Metrics              precision    recall  f1-score   support\n",
      "\n",
      "          0       0.99      1.00      0.99     11995\n",
      "          1       0.44      0.25      0.32       114\n",
      "\n",
      "avg / total       0.99      0.99      0.99     12109\n",
      "\n",
      "\n",
      " **** Train Set Results **** \n"
     ]
    },
    {
     "data": {
      "image/png": "[encoded data removed]",
      "text/plain": [
       "<Figure size 432x288 with 1 Axes>"
      ]
     },
     "metadata": {},
     "output_type": "display_data"
    }
   ],
   "source": [
    "data = load_dataset()\n",
    "\n",
    "trainX, trainY, testX, testY = get_train_test_set(data, 0.2)\n",
    "dt_classifier = get_dt_classifier(trainX,trainY)\n",
    "predicted = dt_classifier.predict(testX)\n",
    "print(\"\\n**** Test Set Results **** \")\n",
    "get_accuracy_on_testset(dt_classifier, testX,testY)\n",
    "print(\"\\n **** Train Set Results **** \")\n",
    "# get_accuracy_on_testset(dt_classifier, trainX, trainY)\n",
    "\n",
    "# get_accuracy_on_testset(rf_classifier, test_set)\n",
    "# get_accuracy_on_testset(rf_classifier, train_set_org)\n",
    "\n",
    "# Manual Split Test on balanced data\n",
    "# train_set, test_set = get_train_test_set_manual(data)\n",
    "# y = train_set.pop('verdict')\n",
    "# X = train_set\n",
    "# dt_classifier = get_dt_classifier(X, y)  # type: object\n",
    "# print(\"\\n **** Accuracy on the Test Set **** \")\n",
    "# get_accuracy_on_testset_manual(dt_classifier, test_set)\n"
   ]
  },
  {
   "cell_type": "code",
   "execution_count": null,
   "metadata": {},
   "outputs": [],
   "source": [
    "mal_url = \"http://adodereemireatesregisetreauaedeveloe.tk/eim/index.php?Email=nobody@example.com\"\n",
    "ben_url = \"https://snxmail.slashnext.com/#1\""
   ]
  }
 ],
 "metadata": {
  "kernelspec": {
   "display_name": "Python 3",
   "language": "python",
   "name": "python3"
  },
  "language_info": {
   "codemirror_mode": {
    "name": "ipython",
    "version": 3
   },
   "file_extension": ".py",
   "mimetype": "text/x-python",
   "name": "python",
   "nbconvert_exporter": "python",
   "pygments_lexer": "ipython3",
   "version": "3.6.5"
  }
 },
 "nbformat": 4,
 "nbformat_minor": 2
}
